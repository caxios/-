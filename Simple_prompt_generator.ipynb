{
  "nbformat": 4,
  "nbformat_minor": 0,
  "metadata": {
    "colab": {
      "provenance": [],
      "authorship_tag": "ABX9TyMyq6iPh1uUNxYrOJISkHw8",
      "include_colab_link": true
    },
    "kernelspec": {
      "name": "python3",
      "display_name": "Python 3"
    },
    "language_info": {
      "name": "python"
    }
  },
  "cells": [
    {
      "cell_type": "markdown",
      "metadata": {
        "id": "view-in-github",
        "colab_type": "text"
      },
      "source": [
        "<a href=\"https://colab.research.google.com/github/caxios/Pandas-Parctice/blob/main/%EA%B1%8D%EC%97%B0%EC%8A%B5.ipynb\" target=\"_parent\"><img src=\"https://colab.research.google.com/assets/colab-badge.svg\" alt=\"Open In Colab\"/></a>"
      ]
    },
    {
      "cell_type": "code",
      "source": [
        "import random"
      ],
      "metadata": {
        "id": "wyPpMx2ZbZND"
      },
      "execution_count": 20,
      "outputs": []
    },
    {
      "cell_type": "code",
      "source": [
        "PromptKeyWordsDirection_path = '/content/PromptKeyWordsDirection.txt'\n",
        "PromptKeyWordsFemale_path = '/content/PromptKeyWordsFemale.txt'\n",
        "PromptKeyWordsScene_path = '/content/PromptKeyWordsScene.txt'\n",
        "\n",
        "path_lst = [PromptKeyWordsDirection_path, PromptKeyWordsFemale_path, PromptKeyWordsScene_path]\n",
        "content_lst = []\n",
        "\n",
        "for file_path in path_lst:\n",
        "  with open(file_path, 'r') as file:\n",
        "      lines = file.readlines()\n",
        "      lines = [line.strip() for line in lines]\n",
        "      content_lst.append(lines)\n",
        "\n",
        "PromptKeyWordsDirection = content_lst[0]\n",
        "PromptKeyWordsFemale = content_lst[1]\n",
        "PromptKeyWordsScene = content_lst[2]"
      ],
      "metadata": {
        "id": "47w5Fp1WbBJC"
      },
      "execution_count": 18,
      "outputs": []
    },
    {
      "cell_type": "code",
      "source": [
        "random_direction = random.choice(PromptKeyWordsDirection)\n",
        "prompt_for_female = 4\n",
        "female_lst = []\n",
        "\n",
        "for _ in range(prompt_for_female):\n",
        "  random_female = random.choice(PromptKeyWordsFemale)\n",
        "  female_lst.append(random_female)\n",
        "\n",
        "# random_scene = random.choice(PromptKeyWordsScene)\n",
        "\n",
        "prompt = ''# + random_scene\n",
        "prompt = prompt.join(female_lst)\n",
        "prompt = prompt + random_direction\n",
        "prompt = prompt + \"--c 10 --stylize 10 --ar 16:9\"\n",
        "print(female_lst)\n",
        "print(random_direction)\n",
        "print(prompt)"
      ],
      "metadata": {
        "colab": {
          "base_uri": "https://localhost:8080/"
        },
        "id": "JZ9MWbNTbwou",
        "outputId": "44405455-1bca-4c39-f1fb-fc172d04f995"
      },
      "execution_count": 34,
      "outputs": [
        {
          "output_type": "stream",
          "name": "stdout",
          "text": [
            "['adorned with subtle symbols of stars and moons,', 'cheerful,', 'fallen kindom,', 'Steampunk,']\n",
            "Dunhuang-style painting,\n",
            "adorned with subtle symbols of stars and moons,cheerful,fallen kindom,Steampunk,Dunhuang-style painting,--c 10 --stylize 10 --ar 16:9\n"
          ]
        }
      ]
    },
    {
      "cell_type": "code",
      "source": [
        "f = 'a g h '\n",
        "num = [1,2,3]\n",
        "f = f.join(str(n) for n in num)\n",
        "print(f)"
      ],
      "metadata": {
        "colab": {
          "base_uri": "https://localhost:8080/"
        },
        "id": "f_OpIstXhDom",
        "outputId": "329d4e36-ef76-4c7c-cdc4-78fb9c1dac3c"
      },
      "execution_count": 29,
      "outputs": [
        {
          "output_type": "stream",
          "name": "stdout",
          "text": [
            "1a g h 2a g h 3\n"
          ]
        }
      ]
    },
    {
      "cell_type": "code",
      "source": [],
      "metadata": {
        "id": "k1n_soIginjC"
      },
      "execution_count": null,
      "outputs": []
    }
  ]
}
